{
 "cells": [
  {
   "cell_type": "markdown",
   "id": "f34ed54067e25173",
   "metadata": {},
   "source": [
    "# Retrieve heating system info per building based on SiL data"
   ]
  },
  {
   "cell_type": "code",
   "execution_count": null,
   "id": "7ef743ded52c2036",
   "metadata": {
    "ExecuteTime": {
     "end_time": "2025-04-19T09:08:02.925299Z",
     "start_time": "2025-04-19T09:08:02.535107Z"
    }
   },
   "outputs": [],
   "source": [
    "import pandas as pd\n",
    "import geopandas as gpd"
   ]
  },
  {
   "cell_type": "code",
   "execution_count": null,
   "id": "initial_id",
   "metadata": {
    "ExecuteTime": {
     "end_time": "2025-04-17T16:53:13.810317Z",
     "start_time": "2025-04-17T16:53:13.808011Z"
    },
    "collapsed": true
   },
   "outputs": [],
   "source": [
    "shared_folder = '/Users/catarina/switchdrive/IPESE-DESL_data_exchange/SDEWES2025/data/'\n",
    "Qbuildings_file = shared_folder + 'buildings_SDEWES_with_pv.gpkg'\n",
    "Qbuildings_exp_file = 'QBuildings_SDEWES_exp.csv'\n",
    "SiL_file = '/Users/catarina/switchdrive/SIL_UrbanTwin_data_exchange/Data/Gas and CAD network/Point_Energie.geojson'\n",
    "SiL_cleaned_file = 'SiL_cleaned.csv'\n"
   ]
  },
  {
   "cell_type": "code",
   "execution_count": null,
   "id": "dc371efa811b8c6f",
   "metadata": {
    "ExecuteTime": {
     "end_time": "2025-04-17T16:53:15.427772Z",
     "start_time": "2025-04-17T16:53:15.425219Z"
    }
   },
   "outputs": [],
   "source": [
    "def read_file(file):\n",
    "    \"\"\"\n",
    "    Function to read a file and return a dataframe\n",
    "    \n",
    "    Parameters:\n",
    "    - file: str ; Path to the file\n",
    "    \n",
    "    Returns:\n",
    "    - df: dataframe ; Dataframe with the file content\n",
    "    \"\"\"\n",
    "    # get extension of file\n",
    "    file_ext = file.split('.')[-1]\n",
    "    # check if the file is a .gpkg, .geojson or .csv. If none, raise an error\n",
    "    if file_ext in ['gpkg', 'geojson']:\n",
    "        df = gpd.read_file(file)\n",
    "    elif file_ext == 'csv':\n",
    "        df = pd.read_csv(file)\n",
    "    else:\n",
    "        raise ValueError('File must be a .gpkg, .geojson or .csv file')\n",
    "    return df"
   ]
  },
  {
   "cell_type": "code",
   "execution_count": null,
   "id": "9f4d64c7590d98e1",
   "metadata": {
    "ExecuteTime": {
     "end_time": "2025-04-17T16:53:18.369865Z",
     "start_time": "2025-04-17T16:53:17.758263Z"
    }
   },
   "outputs": [],
   "source": [
    "def explode_qbuildings(qbuildings):\n",
    "    # read the QBuildings file\n",
    "    qbuildings_df = read_file(qbuildings)\n",
    "\n",
    "    # Split the egid, ratio and in_class columns into separate columns based on /\n",
    "    for column in ['egid','ratio','id_class']:\n",
    "        qbuildings_df[column] = qbuildings_df[column].str.split('/')\n",
    "\n",
    "    # Create a copy of the egid column\n",
    "    qbuildings_df['egid_new'] = qbuildings_df['egid']\n",
    "\n",
    "    # Explode the columns\n",
    "    qbuildings_df = qbuildings_df.explode('egid')\n",
    "\n",
    "    # apply lambda function to extract the correct ratio and id_class values\n",
    "    for column in ['ratio','id_class']:\n",
    "        qbuildings_df[column] = qbuildings_df.apply(lambda row: row[column][row['egid_new'].index(str(row['egid']))], axis=1)\n",
    "\n",
    "    # drop the egid_new column\n",
    "    qbuildings_df.drop(columns='egid_new', inplace=True)\n",
    "    # Convert ration column to float\n",
    "    qbuildings_df['ratio'] = qbuildings_df['ratio'].astype(float)\n",
    "\n",
    "    # calculate new values of building parameters, based on the ratio TO DO: check if solar_gain_factor_signature_m2 should also be multiplied by the ratio\n",
    "    for column in ['area_era_m2','energy_heating_signature_kWh_y','energy_cooling_signature_kWh_y','power_heating_signature_kW',\n",
    "                   'power_cooling_signature_kW','total_annual_irr_kWh_y','roof_annual_irr_kWh_y','facade_annual_irr_kWh_y','area_solar_m2',\n",
    "                   'energy_hotwater_signature_kWh_y','power_hotwater_signature_W','waste_signature_kg_y','waste_signature_kW','area_net_floor_m2',\n",
    "                   'area_footprint_m2','area_facade_m2','area_facade_solar_m2','area_roof_solar_m2','capita_cap','energy_el_kWh_y',\n",
    "                   'solar_gain_factor_signature_m2','area_roof_m2','energy_heating_2024_kWh_y','energy_hotwater_2024_kWh_y','pv_power_kW',]:\n",
    "        qbuildings_df[column] = qbuildings_df[column] * qbuildings_df['ratio']\n",
    "\n",
    "    # create a new column called id_building new, check if the id_building is a duplicate, and if so, add _1, _2, etc to the id_building\n",
    "    qbuildings_df['id_building_new'] = qbuildings_df['id_building']\n",
    "    qbuildings_df['id_building_new'] = qbuildings_df.groupby('id_building_new').cumcount()\n",
    "    qbuildings_df['id_building'] = qbuildings_df.apply(lambda row: row['id_building'] if row['id_building_new'] == 0 else f\"{row['id_building']}_{row['id_building_new']+1}\", axis=1)\n",
    "    # drop the id_building_new column\n",
    "    qbuildings_df.drop(columns='id_building_new', inplace=True)\n",
    "\n",
    "    # remove row with ratio = 0\n",
    "    qbuildings_df = qbuildings_df[qbuildings_df['ratio'] != 0]\n",
    "\n",
    "    qbuildings_df['ratio'] = 1.0 # ratio must be float\n",
    "\n",
    "    return qbuildings_df\n",
    "\n",
    "Qbuildings_exploded = explode_qbuildings(Qbuildings_file)\n",
    "Qbuildings_exploded.to_csv('QBuildings_SDEWES_exp.csv',index=False)\n"
   ]
  },
  {
   "cell_type": "code",
   "execution_count": null,
   "id": "d40295ee42be636f",
   "metadata": {
    "ExecuteTime": {
     "end_time": "2025-04-17T16:53:21.734045Z",
     "start_time": "2025-04-17T16:53:21.731625Z"
    }
   },
   "outputs": [],
   "source": [
    "def clean_SiL(SiL_file):\n",
    "    \"\"\"\n",
    "    Function to remove qlEner_iEGID duplicates from the SiL dataframe keeping the row with the vaule with the highest qlEner_Densité\n",
    "\n",
    "    Parameters:\n",
    "    - SiL_file: str ; path to the SiL file. Can be a .gpkg, .geojson or .csv file\n",
    "\n",
    "    Returns\n",
    "    - updated SiL dataframe\n",
    "    \"\"\"\n",
    "\n",
    "    # Read SiL file\n",
    "    SiL_df = read_file(SiL_file)\n",
    "\n",
    "    # Sort the dataframe by qlEner_Densité\n",
    "    SiL_df = SiL_df.sort_values('qlEner_Densité', ascending=False)\n",
    "\n",
    "    # Drop duplicates based on qlEner_iEGID\n",
    "    cleaned_SiL_df = SiL_df.drop_duplicates(subset='qlEner_iEGID', keep='first')\n",
    "\n",
    "\n",
    "    return cleaned_SiL_df\n",
    "\n",
    "#clean_SiL=clean_SiL(SiL_file)\n",
    "# clean_SiL.to_csv('SiL_cleaned.csv',index=False)"
   ]
  },
  {
   "cell_type": "code",
   "execution_count": null,
   "id": "31237950351494",
   "metadata": {
    "ExecuteTime": {
     "end_time": "2025-04-17T16:53:25.126891Z",
     "start_time": "2025-04-17T16:53:25.122763Z"
    }
   },
   "outputs": [],
   "source": [
    "def update_QBuildings(qbuildings,update_data,QB_criteria,data_criteria,columns,data_new_name=None):\n",
    "    \"\"\"\n",
    "    Function to receive a path for a QBuildings file, a file path with data to be added to the QBuildings file, a list of columns with the data to be added and a list of criteria to match the data.\n",
    "    The function will update the QBuildings file with the data provided in the dataframe, based on the criteria.\n",
    "\n",
    "    Parameters:\n",
    "    - qbuildings: str ; Path to the QBuildings file. Can be a .gpkg, a .geojson or .csv file\n",
    "    - update_data: str ; Data to be added to the QBuildings file\n",
    "    - columns: list ; Columns with the data to be added\n",
    "    - QB_criteria: str ; Column in QBuildings to match the data\n",
    "    - data_criteria: str ; Column in data to update the QBuildings data\n",
    "    - data_new_name: list ; New name of the data to be added. Default is None\n",
    "\n",
    "    Returns:\n",
    "    - Updated QBuildings dataframe\n",
    "    \"\"\"\n",
    "\n",
    "    # read the QBuildings file\n",
    "    qbuildings_df = read_file(qbuildings)\n",
    "    # read the data to be added\n",
    "    update_data_df = read_file(update_data)\n",
    "\n",
    "    # Create columns with the data to be added and add the data to the QBuildings dataframe based on the criteria.\n",
    "    for column in columns:\n",
    "        qbuildings_df[column] = None\n",
    "        for index, row in update_data_df.iterrows():\n",
    "            qbuildings_df.loc[qbuildings_df[QB_criteria] == row[data_criteria], column] = row[column]\n",
    "\n",
    "    # Rename the columns with the new data\n",
    "    if data_new_name:\n",
    "        qbuildings_df.rename(columns=dict(zip(columns,data_new_name)), inplace=True)\n",
    "\n",
    "    return qbuildings_df"
   ]
  },
  {
   "cell_type": "markdown",
   "id": "f57369682d8979d6",
   "metadata": {},
   "source": [
    "# Update QBuildings"
   ]
  },
  {
   "cell_type": "code",
   "execution_count": null,
   "id": "64933befcac6ca70",
   "metadata": {
    "ExecuteTime": {
     "end_time": "2025-04-17T16:53:31.410537Z",
     "start_time": "2025-04-17T16:53:29.934773Z"
    }
   },
   "outputs": [],
   "source": [
    "qbuildings = Qbuildings_exp_file\n",
    "update_data = SiL_cleaned_file\n",
    "QB_criteria = 'egid'\n",
    "data_criteria = 'qlEner_iEGID'\n",
    "columns = ['qlEner_sType','qlEner_sRecommendation']\n",
    "data_new_name = ['heating_system_2024','recommendation']\n",
    "\n",
    "Qbuildings_updated = update_QBuildings(qbuildings,update_data,QB_criteria,data_criteria,columns,data_new_name)\n",
    "\n",
    "heat_source_dic = {'Gaz': 'Gas', 'Mazout': 'Oil', 'CAD': 'DHN'}\n",
    "recommendation_dic = {'Sondes': 'HeatPump_Geothermal', 'CAD actuel': 'DHN', 'CAD futur': 'DHN_futur', 'CAD prévu': 'DHN_2050', 'Déjà raccordé': '2024', 'PAC Air Eau': 'HeatPump_Air', 'Sondes si rénovation': 'HeatPump_Geothermal', 'Gaz conservé': 'Gas', 'PAC si rénovation': 'HeatPump_Air', 'Gaz remplace mazout': 'Gas', 'Déjà raccordé remplaçable par sonde': '2024'}\n",
    "# Update QBuildings with heating system info and recommendation\n",
    "Qbuildings_updated['heating_system_2024']=Qbuildings_updated['heating_system_2024'].map(heat_source_dic)\n",
    "Qbuildings_updated['recommendation']=Qbuildings_updated['recommendation'].map(recommendation_dic)\n",
    "# fill none values in heating_system_2024 with the source_heating column\n",
    "Qbuildings_updated['heating_system_2024'] = Qbuildings_updated['heating_system_2024'].fillna(Qbuildings_updated['source_heating'])\n",
    "\n",
    "# In column id_class, replace XIII by V\n",
    "Qbuildings_updated['id_class'] = Qbuildings_updated['id_class'].replace('XIII','V')\n",
    "\n",
    "Qbuildings_updated.to_csv('../../QBuildings/QBuildings_SDEWES_updated.csv',index=False)"
   ]
  },
  {
   "cell_type": "code",
   "execution_count": null,
   "id": "6f19505e5126edf5",
   "metadata": {
    "ExecuteTime": {
     "end_time": "2025-03-18T18:37:12.518790Z",
     "start_time": "2025-03-18T18:37:12.217382Z"
    }
   },
   "outputs": [],
   "source": [
    "# read the QBuildings file\n",
    "Qbuildings_file = '../../QBuildings/QBuildings_SDEWES_updated.csv'\n",
    "qbuildings_df = read_file(Qbuildings_file)\n",
    "\n",
    "# keep rows where in column 'heating_system_2024' is equal to Gas or Oil\n",
    "qbuildings_df = qbuildings_df[qbuildings_df['heating_system_2024'].isin(['Gas','Oil','DHN'])]\n",
    "qbuildings_df.to_csv('../../QBuildings/QBuildings_SDEWES_updated_2.csv',index=False)"
   ]
  },
  {
   "cell_type": "code",
   "execution_count": null,
   "id": "35e149f2e68f16fe",
   "metadata": {
    "ExecuteTime": {
     "end_time": "2025-03-16T18:15:09.048054Z",
     "start_time": "2025-03-16T18:15:08.727186Z"
    }
   },
   "outputs": [],
   "source": [
    "from reho.model.reho import *\n",
    "reader = QBuildingsReader()\n",
    "qbuildings_data = reader.read_csv(buildings_filename='/Users/catarina/Documents/REHO/scripts/Pathways/QBuildings/QBuildings_SDEWES_updated.csv',nb_buildings=2)"
   ]
  },
  {
   "cell_type": "code",
   "execution_count": null,
   "id": "d2b5f9aaf5a7274e",
   "metadata": {
    "ExecuteTime": {
     "end_time": "2025-03-16T18:19:30.710157Z",
     "start_time": "2025-03-16T18:19:30.704410Z"
    }
   },
   "outputs": [],
   "source": [
    "for key in qbuildings_data['buildings_data'].keys():\n",
    "    print(qbuildings_data['buildings_data'][key].keys())"
   ]
  },
  {
   "cell_type": "markdown",
   "id": "f5a0c2a2f86929f4",
   "metadata": {},
   "source": [
    "# Pathway file"
   ]
  },
  {
   "cell_type": "code",
   "execution_count": null,
   "id": "d3dc781b69e14b42",
   "metadata": {
    "ExecuteTime": {
     "end_time": "2025-04-17T08:51:35.577855Z",
     "start_time": "2025-04-17T08:51:35.444336Z"
    }
   },
   "outputs": [],
   "source": [
    "file = ('/Users/catarina/Documents/REHO/scripts/Pathways/QBuildings/QBuildings_SDEWES_updated.csv')\n",
    "\n",
    "pathways_df = pd.read_csv(file)\n",
    "\n",
    "# keep only egid and heating_system_2024 columns\n",
    "pathways_df = pathways_df[['egid','heating_system_2024','recommendation','is_pv','pv_power_kW']]\n",
    "\n",
    "# substitute value 2024 in column recommendation by the value in heating_system_2024\n",
    "pathways_df['heating_system_2050'] = pathways_df.apply(lambda row: row['heating_system_2024'] if row['recommendation'] == '2024' else row['recommendation'], axis=1)\n",
    "\n",
    "pathways_df['heating_system_2050'] = pathways_df.apply(lambda row: 'DHN' if row['heating_system_2050'] in ['DHN_futur', 'DHN_2050'] else row['heating_system_2050'], axis=1)\n",
    "\n",
    "pathways_df['heating_system_2024'] = pathways_df['heating_system_2024'].replace('DHN','DHN_hex')\n",
    "pathways_df['heating_system_2024'] = pathways_df['heating_system_2024'].replace('District heat','DHN_hex')\n",
    "pathways_df['heating_system_2024'] = pathways_df['heating_system_2024'].replace('District heat/Wood','DHN_hex')\n",
    "pathways_df['heating_system_2024'] = pathways_df['heating_system_2024'].replace('Other/District heat','DHN_hex')\n",
    "pathways_df['heating_system_2024'] = pathways_df['heating_system_2024'].replace('Other/District heat/Gas','DHN_hex')\n",
    "pathways_df['heating_system_2024'] = pathways_df['heating_system_2024'].replace('District heat/Other','DHN_hex')\n",
    "\n",
    "pathways_df['heating_system_2024'] = pathways_df['heating_system_2024'].replace('Gas','NG_Boiler')\n",
    "pathways_df['heating_system_2024'] = pathways_df['heating_system_2024'].replace('Other','NG_Boiler')\n",
    "pathways_df['heating_system_2024'] = pathways_df['heating_system_2024'].replace('Gas/Oil','NG_Boiler')\n",
    "pathways_df['heating_system_2024'] = pathways_df['heating_system_2024'].replace('Not determined','NG_Boiler')\n",
    "pathways_df['heating_system_2024'] = pathways_df['heating_system_2024'].replace('Gas/Other','NG_Boiler')\n",
    "pathways_df['heating_system_2024'] = pathways_df['heating_system_2024'].replace('Gas/Other/Oil','NG_Boiler')\n",
    "pathways_df['heating_system_2024'] = pathways_df['heating_system_2024'].replace('Gas/Other/Electricity/Oil/District heat','NG_Boiler')\n",
    "pathways_df['heating_system_2024'] = pathways_df['heating_system_2024'].replace('Other/Gas','NG_Boiler')\n",
    "pathways_df['heating_system_2024'] = pathways_df['heating_system_2024'].replace('None/Gas','NG_Boiler')\n",
    "pathways_df['heating_system_2024'] = pathways_df['heating_system_2024'].replace('None','NG_Boiler')\n",
    "pathways_df['heating_system_2024'] = pathways_df['heating_system_2024'].replace('Gas/Oil/Electricity/Other','NG_Boiler')\n",
    "pathways_df['heating_system_2024'] = pathways_df['heating_system_2024'].replace('Gas/Oil/Other/District heat','NG_Boiler')\n",
    "pathways_df['heating_system_2024'] = pathways_df['heating_system_2024'].replace('Gas/Wood/Oil','NG_Boiler')\n",
    "pathways_df['heating_system_2024'] = pathways_df['heating_system_2024'].replace('Gas/Oil/Other','NG_Boiler')\n",
    "pathways_df['heating_system_2024'] = pathways_df['heating_system_2024'].replace('Gas/Electricity','NG_Boiler')\n",
    "pathways_df['heating_system_2024'] = pathways_df['heating_system_2024'].replace('Gas/Other/Oil/District heat','NG_Boiler')\n",
    "pathways_df['heating_system_2024'] = pathways_df['heating_system_2024'].replace('Gas/Other/Oil/Electricity','NG_Boiler')\n",
    "pathways_df['heating_system_2024'] = pathways_df['heating_system_2024'].replace('Gas/District heat','NG_Boiler')\n",
    "pathways_df['heating_system_2024'] = pathways_df['heating_system_2024'].replace('Gas/Other/District heat','NG_Boiler')\n",
    "\n",
    "pathways_df['heating_system_2024'] = pathways_df['heating_system_2024'].replace('Oil','OIL_Boiler')\n",
    "pathways_df['heating_system_2024'] = pathways_df['heating_system_2024'].replace('Other/Oil/Gas','OIL_Boiler')\n",
    "pathways_df['heating_system_2024'] = pathways_df['heating_system_2024'].replace('Other/Oil','OIL_Boiler')\n",
    "pathways_df['heating_system_2024'] = pathways_df['heating_system_2024'].replace('Oil/Other','OIL_Boiler')\n",
    "pathways_df['heating_system_2024'] = pathways_df['heating_system_2024'].replace('Oil/Gas/Other','OIL_Boiler')\n",
    "pathways_df['heating_system_2024'] = pathways_df['heating_system_2024'].replace('Oil/Other/Gas','OIL_Boiler')\n",
    "pathways_df['heating_system_2024'] = pathways_df['heating_system_2024'].replace('None/Oil/Other/Gas','OIL_Boiler')\n",
    "pathways_df['heating_system_2024'] = pathways_df['heating_system_2024'].replace('Oil/Not determined/Other/District heat','OIL_Boiler')\n",
    "pathways_df['heating_system_2024'] = pathways_df['heating_system_2024'].replace('Oil/Gas','OIL_Boiler')\n",
    "pathways_df['heating_system_2024'] = pathways_df['heating_system_2024'].replace('Oil/Gas/Wood','OIL_Boiler')\n",
    "pathways_df['heating_system_2024'] = pathways_df['heating_system_2024'].replace('Oil/Other/Not determined','OIL_Boiler')\n",
    "pathways_df['heating_system_2024'] = pathways_df['heating_system_2024'].replace('Oil/District heat','OIL_Boiler')\n",
    "pathways_df['heating_system_2024'] = pathways_df['heating_system_2024'].replace('Oil/Other/District heat','OIL_Boiler')\n",
    "pathways_df['heating_system_2024'] = pathways_df['heating_system_2024'].replace('None/Oil/Gas','OIL_Boiler')\n",
    "\n",
    "pathways_df['heating_system_2024'] = pathways_df['heating_system_2024'].replace('Air','HeatPump_Air')\n",
    "pathways_df['heating_system_2024'] = pathways_df['heating_system_2024'].replace('Other/Air','HeatPump_Air')\n",
    "pathways_df['heating_system_2024'] = pathways_df['heating_system_2024'].replace('Geothermal probe','HeatPump_Geothermal')\n",
    "\n",
    "pathways_df['heating_system_2024'] = pathways_df['heating_system_2024'].replace('Electricity','ElectricalHeater')\n",
    "pathways_df['heating_system_2024'] = pathways_df['heating_system_2024'].replace('Wood','WOOD_Stove')\n",
    "pathways_df['heating_system_2024'] = pathways_df['heating_system_2024'].replace('Wood/Other','WOOD_Stove')\n",
    "\n",
    "pathways_df['heating_system_2050'] = pathways_df['heating_system_2050'].fillna('HeatPump_Air')\n",
    "pathways_df['heating_system_2050'] = pathways_df['heating_system_2050'].replace('DHN','DHN_hex')\n",
    "pathways_df['heating_system_2050'] = pathways_df['heating_system_2050'].replace('Gas','NG_Boiler')\n",
    "pathways_df['heating_system_2050'] = pathways_df['heating_system_2050'].replace('Oil','OIL_Boiler')\n",
    "\n",
    "pathways_df.drop(['recommendation'], axis=1, inplace=True)\n",
    "\n",
    "pathways_df['is_pv'] = pathways_df['is_pv'].map({True: 'PV', False: ''})\n",
    "\n",
    "pathways_df['electric_system_2050'] = 'PV'\n",
    "\n",
    "# rename column heating_system_2024 by heating_system_2025\n",
    "pathways_df.rename(columns={'heating_system_2024': 'heating_system_2025'}, inplace=True)\n",
    "pathways_df.rename(columns={'electric_system_2024': 'electric_system_2025'}, inplace=True)\n",
    "pathways_df.rename(columns={'is_pv': 'electric_system_2025'}, inplace=True)\n",
    "pathways_df.rename(columns={'pv_power_kW': 'pv_mult_2025'}, inplace=True)\n",
    "\n",
    "# print unique values in column heating_system_2024\n",
    "unique_values = pathways_df['heating_system_2025'].unique()\n",
    "print(f\"Unique values in 'heating_system_2025' column:{unique_values}\")\n",
    "\n",
    "pathways_df.to_csv('../../QBuildings/Pathway_SDEWES_test.csv', index=False)\n",
    "\n",
    "#print(pathways_df)"
   ]
  },
  {
   "cell_type": "markdown",
   "id": "353eb13d419d8299",
   "metadata": {},
   "source": [
    "## Divide Transformers with too many buildings in half"
   ]
  },
  {
   "cell_type": "code",
   "execution_count": null,
   "id": "cd0d67e560340b5f",
   "metadata": {
    "ExecuteTime": {
     "end_time": "2025-04-19T21:47:47.703823Z",
     "start_time": "2025-04-19T21:28:28.381760Z"
    }
   },
   "outputs": [],
   "source": [
    "import numpy as np\n",
    "import pandas as pd\n",
    "\n",
    "file = ('/Users/catarina/Documents/REHO/scripts/Pathways/QBuildings/QBuildings_SDEWES_updated_no_EH.csv')\n",
    "\n",
    "pathways_df = pd.read_csv(file)\n",
    "\n",
    "pathways_df['transformer_new'] = pathways_df['transformer']\n",
    "\n",
    "transf_list = pathways_df['transformer'].unique().tolist()\n",
    "\n",
    "for transform in transf_list:\n",
    "    # if number of rows > 100\n",
    "    group = pathways_df[pathways_df['transformer'] == transform]\n",
    "\n",
    "    # If group size > 200, split into 3 parts\n",
    "    if len(group) > 200:\n",
    "        n_rows = len(group)\n",
    "        span = np.linspace(0, n_rows, 4, endpoint=True, dtype=int)\n",
    "\n",
    "        # Assign new transformer values in three parts\n",
    "        indices = group.index\n",
    "        pathways_df.loc[indices[span[0]:span[1]], 'transformer_new'] = f'{transform}_2'\n",
    "        pathways_df.loc[indices[span[1]:span[2]], 'transformer_new'] = f'{transform}_3'\n",
    "        pathways_df.loc[indices[span[2]:span[3]], 'transformer_new'] = f'{transform}_4'\n",
    "\n",
    "    elif len(group) > 100:\n",
    "        n_rows = len(group)\n",
    "        span = np.linspace(0, n_rows, 3, endpoint=True, dtype=int)\n",
    "\n",
    "        # Assign new transformer values in three parts\n",
    "        indices = group.index\n",
    "        pathways_df.loc[indices[span[0]:span[1]], 'transformer_new'] = f'{transform}_2'\n",
    "        pathways_df.loc[indices[span[1]:span[2]], 'transformer_new'] = f'{transform}_3'\n",
    "\n",
    "pathways_df.to_csv('../../QBuildings/QBuildings_SDEWES_updated_no_EH_transf.csv', index=False)\n"
   ]
  },
  {
   "cell_type": "code",
   "execution_count": null,
   "id": "e103e8b616398851",
   "metadata": {
    "ExecuteTime": {
     "end_time": "2025-04-20T23:33:53.683487Z",
     "start_time": "2025-04-20T23:33:53.327140Z"
    }
   },
   "outputs": [],
   "source": [
    "import numpy as np\n",
    "import pandas as pd\n",
    "\n",
    "file = ('/Users/catarina/Documents/REHO/scripts/Pathways/QBuildings/QBuildings_SDEWES_updated.csv')\n",
    "\n",
    "pathways_df = pd.read_csv(file)\n",
    "\n",
    "n_rows = len(pathways_df)\n",
    "\n",
    "n_groups = n_rows // 70\n",
    "\n",
    "span = np.linspace(0, n_rows, n_groups, endpoint=True, dtype=int)\n",
    "indices = pathways_df.index\n",
    "for i in range(1, n_groups):\n",
    "    pathways_df.loc[indices[span[i-1]:span[i]], 'transformer_new'] = f'group_{i}'\n",
    "pathways_df.to_csv('../../QBuildings/QBuildings_SDEWES_updated_2.csv', index=False)"
   ]
  },
  {
   "cell_type": "code",
   "execution_count": null,
   "id": "ac21e8d33dc6e6e8",
   "metadata": {
    "ExecuteTime": {
     "end_time": "2025-04-21T10:04:54.413990Z",
     "start_time": "2025-04-21T10:04:53.320123Z"
    }
   },
   "outputs": [],
   "source": [
    "import numpy as np\n",
    "import pandas as pd\n",
    "\n",
    "transf = pd.read_csv('../../QBuildings/QBuildings_SDEWES_updated_2.csv', usecols=['transformer_new'])\n",
    "transf_list = transf['transformer_new'].unique().tolist()\n",
    "\n",
    "\n",
    "results_folder = ('/Users/catarina/switchdrive/IPESE-DESL_data_exchange/SDEWES2025/final results')\n",
    "\n",
    "PV_2050_transf = []\n",
    "PV_max_transf = []\n",
    "for transform in transf_list:\n",
    "    results = pd.read_pickle(f'{results_folder}/pathway_{transform}.pickle')\n",
    "    results = results['pathway']\n",
    "\n",
    "    results_max_PV = results['PV_max']['df_Unit']\n",
    "    PV_max = results_max_PV.loc[(results_max_PV.index.str.contains('PV')) & ~(results_max_PV.index.str.contains('district'))]\n",
    "    PV_max = PV_max['Units_Mult'].sum()\n",
    "\n",
    "    results_2050_PV = results[5]['df_Unit']\n",
    "    PV_2050 = results_2050_PV.loc[(results_2050_PV.index.str.contains('PV')) & ~(results_2050_PV.index.str.contains('district'))]\n",
    "    PV_2050 = PV_2050['Units_Mult'].sum()\n",
    "\n",
    "    PV_max_transf.append(PV_max)\n",
    "    PV_2050_transf.append(PV_2050)\n",
    "\n",
    "    test = PV_max - PV_2050\n",
    "    print(f'Transformer: {transform}, PV_max: {PV_max}, PV_2050: {PV_2050}, Difference: {test}')\n",
    "\n",
    "# Create a dataframe with the results\n",
    "results_df = pd.DataFrame({'transformer': transf_list, 'PV_max': PV_max_transf, 'PV_2050': PV_2050_transf})\n",
    "total_PV_max = results_df['PV_max'].sum()\n",
    "total_PV_2050 = results_df['PV_2050'].sum()\n",
    "print(f'Total PV_max: {total_PV_max}, Total PV_2050: {total_PV_2050}, Difference: {total_PV_max - total_PV_2050}')\n",
    "#results_df.to_csv('../../QBuildings/PV_results.csv', index=False)\n"
   ]
  },
  {
   "cell_type": "markdown",
   "id": "b206ac13",
   "metadata": {},
   "source": [
    "## Get total current PV in Lasanne"
   ]
  },
  {
   "cell_type": "code",
   "execution_count": null,
   "id": "781bd8bc",
   "metadata": {},
   "outputs": [],
   "source": [
    "import pandas as pd\n",
    "import geopandas as gpd\n",
    "\n",
    "data_path = '/Users/catarina/switchdrive/IPESE-DESL_data_exchange/SDEWES2025/data'\n",
    "pv_path = data_path + '/Lausanne_PV.csv'\n",
    "\n",
    "# Read the PV geo file\n",
    "pv_df = pd.read_csv(pv_path)\n",
    "\n",
    "total_pv_2024 = pv_df['TotalPower'].sum()\n",
    "print(f'Total PV 2025: {total_pv_2024}') # "
   ]
  }
 ],
 "metadata": {
  "kernelspec": {
   "display_name": "venv",
   "language": "python",
   "name": "python3"
  },
  "language_info": {
   "codemirror_mode": {
    "name": "ipython",
    "version": 3
   },
   "file_extension": ".py",
   "mimetype": "text/x-python",
   "name": "python",
   "nbconvert_exporter": "python",
   "pygments_lexer": "ipython3",
   "version": "3.12.9"
  }
 },
 "nbformat": 4,
 "nbformat_minor": 5
}
